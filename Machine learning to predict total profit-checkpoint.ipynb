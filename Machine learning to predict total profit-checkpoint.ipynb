{
 "cells": [
  {
   "cell_type": "markdown",
   "metadata": {},
   "source": [
    ">### Machine learning to predict total profit"
   ]
  },
  {
   "cell_type": "markdown",
   "metadata": {},
   "source": [
    "- In this section we will to create a model which going to predict Total Profit and will evaluate created by the model"
   ]
  },
  {
   "cell_type": "markdown",
   "metadata": {},
   "source": [
    "---\n",
    "#### Cleaning & Preparing Data"
   ]
  },
  {
   "cell_type": "code",
   "execution_count": 5,
   "metadata": {},
   "outputs": [
    {
     "data": {
      "text/html": [
       "<div>\n",
       "<style scoped>\n",
       "    .dataframe tbody tr th:only-of-type {\n",
       "        vertical-align: middle;\n",
       "    }\n",
       "\n",
       "    .dataframe tbody tr th {\n",
       "        vertical-align: top;\n",
       "    }\n",
       "\n",
       "    .dataframe thead th {\n",
       "        text-align: right;\n",
       "    }\n",
       "</style>\n",
       "<table border=\"1\" class=\"dataframe\">\n",
       "  <thead>\n",
       "    <tr style=\"text-align: right;\">\n",
       "      <th></th>\n",
       "      <th>REGION</th>\n",
       "      <th>COUNTRY</th>\n",
       "      <th>ITEM_TYPE</th>\n",
       "      <th>SALES_CHANNEL</th>\n",
       "      <th>QUALITY_PRODUCT</th>\n",
       "      <th>ORDER_DATE</th>\n",
       "      <th>ORDER_ID</th>\n",
       "      <th>SHIP_DATE</th>\n",
       "      <th>UNITS_SOLD</th>\n",
       "      <th>UNIT_PRICE</th>\n",
       "      <th>UNIT_COST</th>\n",
       "      <th>TOTAL_COST</th>\n",
       "      <th>TOTAL_PROFIT</th>\n",
       "    </tr>\n",
       "  </thead>\n",
       "  <tbody>\n",
       "    <tr>\n",
       "      <th>0</th>\n",
       "      <td>Middle East and North Africa</td>\n",
       "      <td>Morocco</td>\n",
       "      <td>Vegetables</td>\n",
       "      <td>Online</td>\n",
       "      <td>M</td>\n",
       "      <td>29.01.16</td>\n",
       "      <td>371943700</td>\n",
       "      <td>12.03.16</td>\n",
       "      <td>5261</td>\n",
       "      <td>154.06</td>\n",
       "      <td>90.93</td>\n",
       "      <td>478382.73</td>\n",
       "      <td>332126.93</td>\n",
       "    </tr>\n",
       "    <tr>\n",
       "      <th>1</th>\n",
       "      <td>Middle East and North Africa</td>\n",
       "      <td>Somalia</td>\n",
       "      <td>Furniture</td>\n",
       "      <td>Online</td>\n",
       "      <td>H</td>\n",
       "      <td>07.10.12</td>\n",
       "      <td>366155707</td>\n",
       "      <td>23.10.12</td>\n",
       "      <td>2465</td>\n",
       "      <td>668.27</td>\n",
       "      <td>502.54</td>\n",
       "      <td>1238761.10</td>\n",
       "      <td>408524.45</td>\n",
       "    </tr>\n",
       "    <tr>\n",
       "      <th>2</th>\n",
       "      <td>Europe</td>\n",
       "      <td>Azerbaijan</td>\n",
       "      <td>Cosmetics</td>\n",
       "      <td>Offline</td>\n",
       "      <td>L</td>\n",
       "      <td>11.06.15</td>\n",
       "      <td>714965188</td>\n",
       "      <td>26.06.15</td>\n",
       "      <td>2942</td>\n",
       "      <td>437.20</td>\n",
       "      <td>263.33</td>\n",
       "      <td>774716.86</td>\n",
       "      <td>511525.54</td>\n",
       "    </tr>\n",
       "    <tr>\n",
       "      <th>3</th>\n",
       "      <td>Europe</td>\n",
       "      <td>Moldova</td>\n",
       "      <td>Clothes</td>\n",
       "      <td>Offline</td>\n",
       "      <td>H</td>\n",
       "      <td>21.05.13</td>\n",
       "      <td>290295970</td>\n",
       "      <td>25.05.13</td>\n",
       "      <td>3883</td>\n",
       "      <td>109.28</td>\n",
       "      <td>35.84</td>\n",
       "      <td>139166.72</td>\n",
       "      <td>285167.52</td>\n",
       "    </tr>\n",
       "    <tr>\n",
       "      <th>4</th>\n",
       "      <td>Europe</td>\n",
       "      <td>Italy</td>\n",
       "      <td>Optical instruments</td>\n",
       "      <td>Online</td>\n",
       "      <td>C</td>\n",
       "      <td>02.02.12</td>\n",
       "      <td>284384381</td>\n",
       "      <td>10.02.12</td>\n",
       "      <td>6513</td>\n",
       "      <td>152.58</td>\n",
       "      <td>97.44</td>\n",
       "      <td>439746.72</td>\n",
       "      <td>248846.82</td>\n",
       "    </tr>\n",
       "  </tbody>\n",
       "</table>\n",
       "</div>"
      ],
      "text/plain": [
       "                         REGION     COUNTRY            ITEM_TYPE  \\\n",
       "0  Middle East and North Africa     Morocco           Vegetables   \n",
       "1  Middle East and North Africa     Somalia            Furniture   \n",
       "2                        Europe  Azerbaijan            Cosmetics   \n",
       "3                        Europe    Moldova               Clothes   \n",
       "4                        Europe       Italy  Optical instruments   \n",
       "\n",
       "  SALES_CHANNEL QUALITY_PRODUCT ORDER_DATE   ORDER_ID SHIP_DATE  UNITS_SOLD  \\\n",
       "0        Online               M   29.01.16  371943700  12.03.16        5261   \n",
       "1        Online               H   07.10.12  366155707  23.10.12        2465   \n",
       "2       Offline               L   11.06.15  714965188  26.06.15        2942   \n",
       "3       Offline               H   21.05.13  290295970  25.05.13        3883   \n",
       "4        Online               C   02.02.12  284384381  10.02.12        6513   \n",
       "\n",
       "   UNIT_PRICE  UNIT_COST  TOTAL_COST  TOTAL_PROFIT  \n",
       "0      154.06      90.93   478382.73     332126.93  \n",
       "1      668.27     502.54  1238761.10     408524.45  \n",
       "2      437.20     263.33   774716.86     511525.54  \n",
       "3      109.28      35.84   139166.72     285167.52  \n",
       "4      152.58      97.44   439746.72     248846.82  "
      ]
     },
     "execution_count": 5,
     "metadata": {},
     "output_type": "execute_result"
    }
   ],
   "source": [
    "from sklearn.model_selection import train_test_split,cross_val_score,cross_validate,RandomizedSearchCV, GridSearchCV\n",
    "from sklearn.metrics import explained_variance_score, r2_score, mean_squared_error, mean_absolute_error\n",
    "from sklearn.preprocessing import StandardScaler\n",
    "import lightgbm as lgb\n",
    "import xgboost as xgb\n",
    "from sklearn.ensemble import RandomForestRegressor\n",
    "import seaborn as sns\n",
    "import pandas as pd\n",
    "import matplotlib.pyplot as plt\n",
    "%matplotlib inline\n",
    "import numpy as np\n",
    "sns.set_style('darkgrid')\n",
    "df = pd.read_csv('Dataset.csv')\n",
    "df.head()"
   ]
  },
  {
   "cell_type": "markdown",
   "metadata": {},
   "source": [
    "#### Droping few variable which has least impact on Total Profit"
   ]
  },
  {
   "cell_type": "code",
   "execution_count": 6,
   "metadata": {},
   "outputs": [],
   "source": [
    "df.drop(['SALES_CHANNEL','REGION','QUALITY_PRODUCT','COUNTRY','ITEM_TYPE','SHIP_DATE','ORDER_DATE','ORDER_ID'],axis=1,inplace=True)"
   ]
  },
  {
   "cell_type": "markdown",
   "metadata": {},
   "source": [
    "#### SPLITTING DATASET TO TRAIN AND TEST SET AND APPLYING SOME FEATURE ENGINEERING TECHNIQUES"
   ]
  },
  {
   "cell_type": "code",
   "execution_count": 7,
   "metadata": {},
   "outputs": [],
   "source": [
    "X=df.drop('TOTAL_PROFIT',axis=1)\n",
    "y=df['TOTAL_PROFIT']\n",
    "\n",
    "X_train, X_test, y_train, y_test = train_test_split(X,y, test_size=0.2, random_state=0)\n",
    "\n",
    "train_set=pd.concat([X_train,y_train],axis=1)\n",
    "test_set=pd.concat([X_test,y_test],axis=1)"
   ]
  },
  {
   "cell_type": "code",
   "execution_count": 8,
   "metadata": {},
   "outputs": [
    {
     "name": "stdout",
     "output_type": "stream",
     "text": [
      "Training Features Shape: (76113, 4)\n",
      "Training Labels Shape: (19029, 4)\n",
      "Testing Features Shape: (76113,)\n",
      "Testing Labels Shape: (19029,)\n"
     ]
    }
   ],
   "source": [
    "print('Training Features Shape:', X_train.shape)\n",
    "print('Training Labels Shape:', X_test.shape)\n",
    "print('Testing Features Shape:', y_train.shape)\n",
    "print('Testing Labels Shape:', y_test.shape)"
   ]
  },
  {
   "cell_type": "markdown",
   "metadata": {},
   "source": [
    "#### APPLYING TARGET MEAN ENCODING FOR CATEGORICAL FEATURES AND SCALING THE TRAIN AND TEST SET"
   ]
  },
  {
   "cell_type": "code",
   "execution_count": 9,
   "metadata": {},
   "outputs": [],
   "source": [
    "categorical_features=[feature for feature in df.columns if df[feature].dtype=='O']\n",
    "numerical_features=[feature for feature in df.columns if df[feature].dtype!='O']"
   ]
  },
  {
   "cell_type": "code",
   "execution_count": 10,
   "metadata": {},
   "outputs": [],
   "source": [
    "for feature in categorical_features:\n",
    "    feature_labels=train_set.groupby(feature)['TOTAL_PROFIT'].mean().sort_values().index\n",
    "    feature_labels={k:i for i,k in enumerate(feature_labels,0)}\n",
    "    train_set[feature]=train_set[feature].map(feature_labels)\n",
    "    test_set[feature]=test_set[feature].map(feature_labels)\n",
    "\n",
    "test_set.dropna(inplace=True)\n",
    "\n",
    "scaler=StandardScaler()\n",
    "\n",
    "scaled_X_train=pd.DataFrame(scaler.fit_transform(train_set.drop('TOTAL_PROFIT',axis=1)), columns=X_train.columns)\n",
    "scaled_X_train.index=train_set.index\n",
    "scaled_X_test=pd.DataFrame(scaler.transform(test_set.drop('TOTAL_PROFIT',axis=1)), columns=X_test.columns)\n",
    "scaled_X_test.index=test_set.index\n",
    "\n",
    "\n",
    "scaled_train=pd.concat([scaled_X_train,train_set['TOTAL_PROFIT']],axis=1)\n",
    "scaled_test=pd.concat([scaled_X_test,test_set['TOTAL_PROFIT']],axis=1)"
   ]
  },
  {
   "cell_type": "markdown",
   "metadata": {},
   "source": [
    "#### FEATURE SELECTION"
   ]
  },
  {
   "cell_type": "markdown",
   "metadata": {},
   "source": [
    "#### Check feature importances using Random Forest & XGBoost & Light GBM"
   ]
  },
  {
   "cell_type": "markdown",
   "metadata": {},
   "source": [
    "#### Feature importances Random Forest model"
   ]
  },
  {
   "cell_type": "code",
   "execution_count": 12,
   "metadata": {},
   "outputs": [
    {
     "data": {
      "image/png": "[encoded data removed]",
      "text/plain": [
       "<Figure size 1008x324 with 1 Axes>"
      ]
     },
     "metadata": {},
     "output_type": "display_data"
    }
   ],
   "source": [
    "fig =  plt.figure(figsize = (14,4.5))\n",
    "reg=RandomForestRegressor()\n",
    "reg.fit(scaled_train.drop('TOTAL_PROFIT',axis=1),scaled_train['TOTAL_PROFIT'])\n",
    "feat_importances = pd.Series(reg.feature_importances_, index=scaled_train.drop('TOTAL_PROFIT',axis=1).columns)\n",
    "feat_importances.nlargest(scaled_train.drop('TOTAL_PROFIT',axis=1).shape[1]).plot(kind='barh',color='green')\n",
    "plt.show()"
   ]
  },
  {
   "cell_type": "markdown",
   "metadata": {},
   "source": [
    "#### Feature importances XGBoost model"
   ]
  },
  {
   "cell_type": "code",
   "execution_count": 13,
   "metadata": {},
   "outputs": [
    {
     "data": {
      "image/png": "[encoded data removed]",
      "text/plain": [
       "<Figure size 1008x324 with 1 Axes>"
      ]
     },
     "metadata": {},
     "output_type": "display_data"
    }
   ],
   "source": [
    "model = xgb.XGBRegressor()\n",
    "model.fit(X_train, y_train)\n",
    "fig =  plt.figure(figsize = (14,4.5))\n",
    "axes = fig.add_subplot(111)\n",
    "xgb.plot_importance(model,ax = axes,height = 0.6,color='green',max_num_features=10)\n",
    "plt.show()"
   ]
  },
  {
   "cell_type": "markdown",
   "metadata": {},
   "source": [
    "#### Feature importances LightGBM model"
   ]
  },
  {
   "cell_type": "code",
   "execution_count": 14,
   "metadata": {},
   "outputs": [
    {
     "data": {
      "image/png": "[encoded data removed]",
      "text/plain": [
       "<Figure size 1008x324 with 1 Axes>"
      ]
     },
     "metadata": {},
     "output_type": "display_data"
    }
   ],
   "source": [
    "model = lgb.LGBMRegressor()\n",
    "model.fit(X_train, y_train)\n",
    "fig =  plt.figure(figsize = (14,4.5))\n",
    "axes = fig.add_subplot(111)\n",
    "lgb.plot_importance(model,ax = axes,height = 0.6,color='green',max_num_features=10)\n",
    "plt.show()"
   ]
  },
  {
   "cell_type": "markdown",
   "metadata": {},
   "source": [
    "#### Evaluating the model's performance on the test set using Random Forest & XGBoost & Light GBM"
   ]
  },
  {
   "cell_type": "code",
   "execution_count": 15,
   "metadata": {
    "scrolled": true
   },
   "outputs": [
    {
     "data": {
      "text/html": [
       "<div>\n",
       "<style scoped>\n",
       "    .dataframe tbody tr th:only-of-type {\n",
       "        vertical-align: middle;\n",
       "    }\n",
       "\n",
       "    .dataframe tbody tr th {\n",
       "        vertical-align: top;\n",
       "    }\n",
       "\n",
       "    .dataframe thead th {\n",
       "        text-align: right;\n",
       "    }\n",
       "</style>\n",
       "<table border=\"1\" class=\"dataframe\">\n",
       "  <thead>\n",
       "    <tr style=\"text-align: right;\">\n",
       "      <th></th>\n",
       "      <th>Model</th>\n",
       "      <th>Mean Squared Error</th>\n",
       "      <th>Mean Absolute Error</th>\n",
       "      <th>R2</th>\n",
       "      <th>Accuracy</th>\n",
       "    </tr>\n",
       "  </thead>\n",
       "  <tbody>\n",
       "    <tr>\n",
       "      <th>0</th>\n",
       "      <td>Random Forest</td>\n",
       "      <td>1.984243e+09</td>\n",
       "      <td>973.79724</td>\n",
       "      <td>0.98710</td>\n",
       "      <td>99.75245</td>\n",
       "    </tr>\n",
       "    <tr>\n",
       "      <th>1</th>\n",
       "      <td>XGBoost</td>\n",
       "      <td>2.453949e+09</td>\n",
       "      <td>3190.07213</td>\n",
       "      <td>0.98354</td>\n",
       "      <td>99.18906</td>\n",
       "    </tr>\n",
       "    <tr>\n",
       "      <th>2</th>\n",
       "      <td>LightGBM</td>\n",
       "      <td>1.765503e+09</td>\n",
       "      <td>4756.26598</td>\n",
       "      <td>0.98835</td>\n",
       "      <td>98.79092</td>\n",
       "    </tr>\n",
       "  </tbody>\n",
       "</table>\n",
       "</div>"
      ],
      "text/plain": [
       "           Model  Mean Squared Error  Mean Absolute Error       R2  Accuracy\n",
       "0  Random Forest        1.984243e+09            973.79724  0.98710  99.75245\n",
       "1        XGBoost        2.453949e+09           3190.07213  0.98354  99.18906\n",
       "2       LightGBM        1.765503e+09           4756.26598  0.98835  98.79092"
      ]
     },
     "execution_count": 15,
     "metadata": {},
     "output_type": "execute_result"
    }
   ],
   "source": [
    "X_train=scaled_train.drop('TOTAL_PROFIT',axis=1)\n",
    "y_train=scaled_train['TOTAL_PROFIT']\n",
    "X_test=scaled_test.drop('TOTAL_PROFIT',axis=1)\n",
    "y_test=scaled_test['TOTAL_PROFIT']\n",
    "\n",
    "rf=RandomForestRegressor(random_state=None)\n",
    "xgb_reg=xgb.XGBRegressor(random_state=None)\n",
    "lgb_reg=lgb.LGBMRegressor(random_state=None)\n",
    "\n",
    "score_rf=-np.round(cross_val_score(rf,X_train,y_train,cv=10,scoring='neg_mean_squared_error'),4)\n",
    "score_xgb_reg=-np.round(cross_val_score(xgb_reg,X_train,y_train,cv=10,scoring='neg_mean_squared_error'),4)\n",
    "score_lgb_reg=-np.round(cross_val_score(lgb_reg,X_train,y_train,cv=10,scoring='neg_mean_squared_error'),4)\n",
    "mae_rf = -np.round(cross_val_score(rf, X_train,y_train, scoring='neg_mean_absolute_error', cv=10),4)\n",
    "mae_xgb = -np.round(cross_val_score(xgb_reg, X_train,y_train, scoring='neg_mean_absolute_error', cv=10),4)\n",
    "mae_lgb = -np.round(cross_val_score(lgb_reg, X_train,y_train, scoring='neg_mean_absolute_error', cv=10),4)\n",
    "r2_rf = np.round(cross_val_score(rf, X_train,y_train, scoring='r2', cv=10),4)\n",
    "r2_xgb = np.round(cross_val_score(xgb_reg, X_train,y_train, scoring='r2', cv=10),4)\n",
    "r2_lgb = np.round(cross_val_score(lgb_reg, X_train,y_train, scoring='r2', cv=10),4)\n",
    "acc_rf = np.round((100-(100*(mae_rf*len(X_train)))/sum(y_train)),4)\n",
    "acc_xgb = np.round((100-(100*(mae_xgb*len(X_train)))/sum(y_train)),4)\n",
    "acc_lgb = np.round((100-(100*(mae_lgb*len(X_train)))/sum(y_train)),4)\n",
    "\n",
    "scores=pd.DataFrame({'Model':['Random Forest','XGBoost','LightGBM'],\n",
    "                    'Mean Squared Error':[score_rf.mean(),score_xgb_reg.mean(),score_lgb_reg.mean()],\n",
    "                    'Mean Absolute Error':[mae_rf.mean(),mae_xgb.mean(),mae_lgb.mean()],\n",
    "                     'R2':[r2_rf.mean(),r2_xgb.mean(),r2_lgb.mean()],\n",
    "                     'Accuracy':[acc_rf.mean(),acc_xgb.mean(),acc_lgb.mean()]})\n",
    "\n",
    "scores"
   ]
  },
  {
   "cell_type": "markdown",
   "metadata": {},
   "source": [
    "---\n",
    "After get estimate machine learning models result we can compare all our ML models to choose better estimated model and that is **Random Forest** model, reason is that **Accuracy**, **R2** and other measures highly than other models "
   ]
  }
 ],
 "metadata": {
  "kernelspec": {
   "display_name": "Python 3",
   "language": "python",
   "name": "python3"
  },
  "language_info": {
   "codemirror_mode": {
    "name": "ipython",
    "version": 3
   },
   "file_extension": ".py",
   "mimetype": "text/x-python",
   "name": "python",
   "nbconvert_exporter": "python",
   "pygments_lexer": "ipython3",
   "version": "3.8.3"
  }
 },
 "nbformat": 4,
 "nbformat_minor": 4
}
