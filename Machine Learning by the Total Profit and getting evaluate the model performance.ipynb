{
 "cells": [
  {
   "cell_type": "markdown",
   "metadata": {},
   "source": [
    ">### Machine Learning by the Total Profit and getting evaluate the model performance"
   ]
  },
  {
   "cell_type": "markdown",
   "metadata": {},
   "source": [
    "- In this section, we will create a model which going to evaluate performance features a **Total Profit** by the model"
   ]
  },
  {
   "cell_type": "markdown",
   "metadata": {},
   "source": [
    "---\n",
    "### List of Machine Learning Algorithms\n",
    "- **Random Forest**\n",
    "\n",
    "- **XGBoost**\n",
    "\n",
    "- **LightGBM**\n",
    "---"
   ]
  },
  {
   "cell_type": "markdown",
   "metadata": {},
   "source": [
    "---\n",
    "#### Cleaning & Preparing Data"
   ]
  },
  {
   "cell_type": "code",
   "execution_count": 1,
   "metadata": {},
   "outputs": [
    {
     "data": {
      "text/html": [
       "<div>\n",
       "<style scoped>\n",
       "    .dataframe tbody tr th:only-of-type {\n",
       "        vertical-align: middle;\n",
       "    }\n",
       "\n",
       "    .dataframe tbody tr th {\n",
       "        vertical-align: top;\n",
       "    }\n",
       "\n",
       "    .dataframe thead th {\n",
       "        text-align: right;\n",
       "    }\n",
       "</style>\n",
       "<table border=\"1\" class=\"dataframe\">\n",
       "  <thead>\n",
       "    <tr style=\"text-align: right;\">\n",
       "      <th></th>\n",
       "      <th>REGION</th>\n",
       "      <th>COUNTRY</th>\n",
       "      <th>ITEM_TYPE</th>\n",
       "      <th>SALES_CHANNEL</th>\n",
       "      <th>QUALITY_PRODUCT</th>\n",
       "      <th>ORDER_DATE</th>\n",
       "      <th>ORDER_ID</th>\n",
       "      <th>SHIP_DATE</th>\n",
       "      <th>UNITS_SOLD</th>\n",
       "      <th>UNIT_PRICE</th>\n",
       "      <th>UNIT_COST</th>\n",
       "      <th>TOTAL_COST</th>\n",
       "      <th>TOTAL_PROFIT</th>\n",
       "    </tr>\n",
       "  </thead>\n",
       "  <tbody>\n",
       "    <tr>\n",
       "      <th>0</th>\n",
       "      <td>Middle East and North Africa</td>\n",
       "      <td>Morocco</td>\n",
       "      <td>Vegetables</td>\n",
       "      <td>Online</td>\n",
       "      <td>M</td>\n",
       "      <td>29.01.16</td>\n",
       "      <td>371943700</td>\n",
       "      <td>12.03.16</td>\n",
       "      <td>5261</td>\n",
       "      <td>154.06</td>\n",
       "      <td>90.93</td>\n",
       "      <td>478382.73</td>\n",
       "      <td>332126.93</td>\n",
       "    </tr>\n",
       "    <tr>\n",
       "      <th>1</th>\n",
       "      <td>Middle East and North Africa</td>\n",
       "      <td>Somalia</td>\n",
       "      <td>Furniture</td>\n",
       "      <td>Online</td>\n",
       "      <td>H</td>\n",
       "      <td>07.10.12</td>\n",
       "      <td>366155707</td>\n",
       "      <td>23.10.12</td>\n",
       "      <td>2465</td>\n",
       "      <td>668.27</td>\n",
       "      <td>502.54</td>\n",
       "      <td>1238761.10</td>\n",
       "      <td>408524.45</td>\n",
       "    </tr>\n",
       "    <tr>\n",
       "      <th>2</th>\n",
       "      <td>Europe</td>\n",
       "      <td>Azerbaijan</td>\n",
       "      <td>Cosmetics</td>\n",
       "      <td>Offline</td>\n",
       "      <td>L</td>\n",
       "      <td>11.06.15</td>\n",
       "      <td>714965188</td>\n",
       "      <td>26.06.15</td>\n",
       "      <td>2942</td>\n",
       "      <td>437.20</td>\n",
       "      <td>263.33</td>\n",
       "      <td>774716.86</td>\n",
       "      <td>511525.54</td>\n",
       "    </tr>\n",
       "    <tr>\n",
       "      <th>3</th>\n",
       "      <td>Europe</td>\n",
       "      <td>Moldova</td>\n",
       "      <td>Clothes</td>\n",
       "      <td>Offline</td>\n",
       "      <td>H</td>\n",
       "      <td>21.05.13</td>\n",
       "      <td>290295970</td>\n",
       "      <td>25.05.13</td>\n",
       "      <td>3883</td>\n",
       "      <td>109.28</td>\n",
       "      <td>35.84</td>\n",
       "      <td>139166.72</td>\n",
       "      <td>285167.52</td>\n",
       "    </tr>\n",
       "    <tr>\n",
       "      <th>4</th>\n",
       "      <td>Europe</td>\n",
       "      <td>Italy</td>\n",
       "      <td>Optical instruments</td>\n",
       "      <td>Online</td>\n",
       "      <td>C</td>\n",
       "      <td>02.02.12</td>\n",
       "      <td>284384381</td>\n",
       "      <td>10.02.12</td>\n",
       "      <td>6513</td>\n",
       "      <td>152.58</td>\n",
       "      <td>97.44</td>\n",
       "      <td>439746.72</td>\n",
       "      <td>248846.82</td>\n",
       "    </tr>\n",
       "  </tbody>\n",
       "</table>\n",
       "</div>"
      ],
      "text/plain": [
       "                         REGION     COUNTRY            ITEM_TYPE  \\\n",
       "0  Middle East and North Africa     Morocco           Vegetables   \n",
       "1  Middle East and North Africa     Somalia            Furniture   \n",
       "2                        Europe  Azerbaijan            Cosmetics   \n",
       "3                        Europe    Moldova               Clothes   \n",
       "4                        Europe       Italy  Optical instruments   \n",
       "\n",
       "  SALES_CHANNEL QUALITY_PRODUCT ORDER_DATE   ORDER_ID SHIP_DATE  UNITS_SOLD  \\\n",
       "0        Online               M   29.01.16  371943700  12.03.16        5261   \n",
       "1        Online               H   07.10.12  366155707  23.10.12        2465   \n",
       "2       Offline               L   11.06.15  714965188  26.06.15        2942   \n",
       "3       Offline               H   21.05.13  290295970  25.05.13        3883   \n",
       "4        Online               C   02.02.12  284384381  10.02.12        6513   \n",
       "\n",
       "   UNIT_PRICE  UNIT_COST  TOTAL_COST  TOTAL_PROFIT  \n",
       "0      154.06      90.93   478382.73     332126.93  \n",
       "1      668.27     502.54  1238761.10     408524.45  \n",
       "2      437.20     263.33   774716.86     511525.54  \n",
       "3      109.28      35.84   139166.72     285167.52  \n",
       "4      152.58      97.44   439746.72     248846.82  "
      ]
     },
     "execution_count": 1,
     "metadata": {},
     "output_type": "execute_result"
    }
   ],
   "source": [
    "from sklearn.model_selection import cross_val_score, train_test_split,KFold,RandomizedSearchCV,GridSearchCV,cross_validate\n",
    "from sklearn.metrics import explained_variance_score, r2_score, mean_squared_error, mean_absolute_error\n",
    "from sklearn.preprocessing import StandardScaler\n",
    "import lightgbm as lgb\n",
    "import xgboost as xgb\n",
    "from sklearn.ensemble import RandomForestRegressor\n",
    "import seaborn as sns\n",
    "import pandas as pd\n",
    "import matplotlib.pyplot as plt\n",
    "import numpy as np\n",
    "from sklearn import model_selection\n",
    "sns.set_style('darkgrid')\n",
    "df = pd.read_csv('Dataset.csv')\n",
    "df.head()"
   ]
  },
  {
   "cell_type": "markdown",
   "metadata": {},
   "source": [
    "#### Droping few variable which has least impact on Total Profit"
   ]
  },
  {
   "cell_type": "code",
   "execution_count": 2,
   "metadata": {},
   "outputs": [],
   "source": [
    "df.drop(['SALES_CHANNEL','REGION','QUALITY_PRODUCT','COUNTRY','ITEM_TYPE','SHIP_DATE','ORDER_DATE','ORDER_ID'],axis=1,inplace=True)"
   ]
  },
  {
   "cell_type": "markdown",
   "metadata": {},
   "source": [
    "#### SPLITTING DATASET TO TRAIN AND TEST SET AND APPLYING SOME FEATURE ENGINEERING TECHNIQUES"
   ]
  },
  {
   "cell_type": "code",
   "execution_count": 3,
   "metadata": {},
   "outputs": [],
   "source": [
    "X=df.drop('TOTAL_PROFIT',axis=1)\n",
    "y=df['TOTAL_PROFIT']\n",
    "\n",
    "X_train, X_test, y_train, y_test = train_test_split(X,y, test_size=0.1, random_state=42)\n",
    "\n",
    "train_set=pd.concat([X_train,y_train],axis=1)\n",
    "test_set=pd.concat([X_test,y_test],axis=1)"
   ]
  },
  {
   "cell_type": "code",
   "execution_count": 4,
   "metadata": {},
   "outputs": [
    {
     "name": "stdout",
     "output_type": "stream",
     "text": [
      "Training Features Shape: (85627, 4)\n",
      "Training Labels Shape: (9515, 4)\n",
      "Testing Features Shape: (85627,)\n",
      "Testing Labels Shape: (9515,)\n"
     ]
    }
   ],
   "source": [
    "print('Training Features Shape:', X_train.shape)\n",
    "print('Training Labels Shape:', X_test.shape)\n",
    "print('Testing Features Shape:', y_train.shape)\n",
    "print('Testing Labels Shape:', y_test.shape)"
   ]
  },
  {
   "cell_type": "markdown",
   "metadata": {},
   "source": [
    "#### APPLYING TARGET MEAN ENCODING FOR CATEGORICAL FEATURES AND SCALING THE TRAIN AND TEST SET"
   ]
  },
  {
   "cell_type": "code",
   "execution_count": 5,
   "metadata": {},
   "outputs": [],
   "source": [
    "categorical_features=[feature for feature in df.columns if df[feature].dtype=='O']\n",
    "numerical_features=[feature for feature in df.columns if df[feature].dtype!='O']"
   ]
  },
  {
   "cell_type": "code",
   "execution_count": 6,
   "metadata": {},
   "outputs": [],
   "source": [
    "for feature in categorical_features:\n",
    "    feature_labels=train_set.groupby(feature)['TOTAL_PROFIT'].mean().sort_values().index\n",
    "    feature_labels={k:i for i,k in enumerate(feature_labels,0)}\n",
    "    train_set[feature]=train_set[feature].map(feature_labels)\n",
    "    test_set[feature]=test_set[feature].map(feature_labels)\n",
    "\n",
    "test_set.dropna(inplace=True)\n",
    "\n",
    "scaler=StandardScaler()\n",
    "\n",
    "scaled_X_train=pd.DataFrame(scaler.fit_transform(train_set.drop('TOTAL_PROFIT',axis=1)), columns=X_train.columns)\n",
    "scaled_X_train.index=train_set.index\n",
    "scaled_X_test=pd.DataFrame(scaler.transform(test_set.drop('TOTAL_PROFIT',axis=1)), columns=X_test.columns)\n",
    "scaled_X_test.index=test_set.index\n",
    "\n",
    "\n",
    "scaled_train=pd.concat([scaled_X_train,train_set['TOTAL_PROFIT']],axis=1)\n",
    "scaled_test=pd.concat([scaled_X_test,test_set['TOTAL_PROFIT']],axis=1)"
   ]
  },
  {
   "cell_type": "markdown",
   "metadata": {},
   "source": [
    "#### FEATURE SELECTION"
   ]
  },
  {
   "cell_type": "markdown",
   "metadata": {},
   "source": [
    "#### Check feature importances using Random Forest & XGBoost & Light GBM"
   ]
  },
  {
   "cell_type": "markdown",
   "metadata": {},
   "source": [
    "#### Feature importances using Random Forest algorithm"
   ]
  },
  {
   "cell_type": "code",
   "execution_count": 10,
   "metadata": {},
   "outputs": [
    {
     "data": {
      "image/png": "[encoded data removed]",
      "text/plain": [
       "<Figure size 1008x324 with 1 Axes>"
      ]
     },
     "metadata": {},
     "output_type": "display_data"
    }
   ],
   "source": [
    "fig =  plt.figure(figsize = (14,4.5))\n",
    "reg=RandomForestRegressor()\n",
    "reg.fit(scaled_train.drop('TOTAL_PROFIT',axis=1),scaled_train['TOTAL_PROFIT'])\n",
    "feat_importances = pd.Series(reg.feature_importances_, index=scaled_train.drop('TOTAL_PROFIT',axis=1).columns)\n",
    "feat_importances.nlargest(scaled_train.drop('TOTAL_PROFIT',axis=1).shape[1]).plot(kind='barh',color='green')\n",
    "plt.show()"
   ]
  },
  {
   "cell_type": "markdown",
   "metadata": {},
   "source": [
    "#### Feature importances using XGBoost algorithm"
   ]
  },
  {
   "cell_type": "code",
   "execution_count": 13,
   "metadata": {},
   "outputs": [
    {
     "data": {
      "image/png": "[encoded data removed]",
      "text/plain": [
       "<Figure size 1008x324 with 1 Axes>"
      ]
     },
     "metadata": {},
     "output_type": "display_data"
    }
   ],
   "source": [
    "model = xgb.XGBRegressor()\n",
    "model.fit(X_train, y_train)\n",
    "fig =  plt.figure(figsize = (14,4.5))\n",
    "axes = fig.add_subplot(111)\n",
    "xgb.plot_importance(model,ax = axes,height = 0.6,color='green',max_num_features=10)\n",
    "plt.show()"
   ]
  },
  {
   "cell_type": "markdown",
   "metadata": {},
   "source": [
    "#### Feature importances using LightGBM algorithm"
   ]
  },
  {
   "cell_type": "code",
   "execution_count": 14,
   "metadata": {},
   "outputs": [
    {
     "data": {
      "image/png": "[encoded data removed]",
      "text/plain": [
       "<Figure size 1008x324 with 1 Axes>"
      ]
     },
     "metadata": {},
     "output_type": "display_data"
    }
   ],
   "source": [
    "model = lgb.LGBMRegressor()\n",
    "model.fit(X_train, y_train)\n",
    "fig =  plt.figure(figsize = (14,4.5))\n",
    "axes = fig.add_subplot(111)\n",
    "lgb.plot_importance(model,ax = axes,height = 0.6,color='green',max_num_features=10)\n",
    "plt.show()"
   ]
  },
  {
   "cell_type": "markdown",
   "metadata": {},
   "source": [
    "#### Εvaluating best model's performance according to K-fold"
   ]
  },
  {
   "cell_type": "code",
   "execution_count": 17,
   "metadata": {},
   "outputs": [
    {
     "name": "stdout",
     "output_type": "stream",
     "text": [
      "Accuracy of Random Forest Model: 94.632% (5.432%)\n",
      "Accuracy of XGBoost Model: 96.620% (3.311%)\n",
      "Accuracy of LightGBM Model: 96.572% (5.436%)\n"
     ]
    }
   ],
   "source": [
    "X_train=scaled_train.drop('TOTAL_PROFIT',axis=1)\n",
    "y_train=scaled_train['TOTAL_PROFIT']\n",
    "X_test=scaled_test.drop('TOTAL_PROFIT',axis=1)\n",
    "y_test=scaled_test['TOTAL_PROFIT']\n",
    "\n",
    "kfold = KFold(n_splits=10, random_state=None, shuffle=False)\n",
    "rf=RandomForestRegressor()\n",
    "xgb_reg=xgb.XGBRegressor()\n",
    "lgb_reg=lgb.LGBMRegressor()\n",
    "results = model_selection.cross_val_score(rf, X_train, y_train, cv=kfold)\n",
    "results1 = model_selection.cross_val_score(xgb_reg, X_train, y_train, cv=kfold)\n",
    "results2 = model_selection.cross_val_score(lgb_reg, X_train, y_train, cv=kfold)\n",
    "print(\"Accuracy of Random Forest Model: %.3f%% (%.3f%%)\" % (results.mean()*100.0, results.std()*100.0))\n",
    "print(\"Accuracy of XGBoost Model: %.3f%% (%.3f%%)\" % (results1.mean()*100.0, results1.std()*100.0))\n",
    "print(\"Accuracy of LightGBM Model: %.3f%% (%.3f%%)\" % (results2.mean()*100.0, results2.std()*100.0))"
   ]
  },
  {
   "cell_type": "markdown",
   "metadata": {},
   "source": [
    "#### Evaluating the model's performance on the test set using regression metrics (MSE, MAE, RMSE, R2)"
   ]
  },
  {
   "cell_type": "code",
   "execution_count": 7,
   "metadata": {
    "scrolled": true
   },
   "outputs": [
    {
     "data": {
      "text/html": [
       "<div>\n",
       "<style scoped>\n",
       "    .dataframe tbody tr th:only-of-type {\n",
       "        vertical-align: middle;\n",
       "    }\n",
       "\n",
       "    .dataframe tbody tr th {\n",
       "        vertical-align: top;\n",
       "    }\n",
       "\n",
       "    .dataframe thead th {\n",
       "        text-align: right;\n",
       "    }\n",
       "</style>\n",
       "<table border=\"1\" class=\"dataframe\">\n",
       "  <thead>\n",
       "    <tr style=\"text-align: right;\">\n",
       "      <th></th>\n",
       "      <th>Model</th>\n",
       "      <th>Mean Squared Error</th>\n",
       "      <th>Mean Absolute Error</th>\n",
       "      <th>RMSE</th>\n",
       "      <th>R2</th>\n",
       "    </tr>\n",
       "  </thead>\n",
       "  <tbody>\n",
       "    <tr>\n",
       "      <th>0</th>\n",
       "      <td>Random Forest</td>\n",
       "      <td>7.543150e+09</td>\n",
       "      <td>1523.34419</td>\n",
       "      <td>90407.448944</td>\n",
       "      <td>0.94572</td>\n",
       "    </tr>\n",
       "    <tr>\n",
       "      <th>1</th>\n",
       "      <td>XGBoost</td>\n",
       "      <td>5.348811e+09</td>\n",
       "      <td>3630.34167</td>\n",
       "      <td>73135.563005</td>\n",
       "      <td>0.96621</td>\n",
       "    </tr>\n",
       "    <tr>\n",
       "      <th>2</th>\n",
       "      <td>LightGBM</td>\n",
       "      <td>5.763946e+09</td>\n",
       "      <td>6251.48576</td>\n",
       "      <td>75920.653856</td>\n",
       "      <td>0.96572</td>\n",
       "    </tr>\n",
       "  </tbody>\n",
       "</table>\n",
       "</div>"
      ],
      "text/plain": [
       "           Model  Mean Squared Error  Mean Absolute Error          RMSE  \\\n",
       "0  Random Forest        7.543150e+09           1523.34419  90407.448944   \n",
       "1        XGBoost        5.348811e+09           3630.34167  73135.563005   \n",
       "2       LightGBM        5.763946e+09           6251.48576  75920.653856   \n",
       "\n",
       "        R2  \n",
       "0  0.94572  \n",
       "1  0.96621  \n",
       "2  0.96572  "
      ]
     },
     "execution_count": 7,
     "metadata": {},
     "output_type": "execute_result"
    }
   ],
   "source": [
    "X_train=scaled_train.drop('TOTAL_PROFIT',axis=1)\n",
    "y_train=scaled_train['TOTAL_PROFIT']\n",
    "X_test=scaled_test.drop('TOTAL_PROFIT',axis=1)\n",
    "y_test=scaled_test['TOTAL_PROFIT']\n",
    "\n",
    "rf=RandomForestRegressor()\n",
    "xgb_reg=xgb.XGBRegressor()\n",
    "lgb_reg=lgb.LGBMRegressor()\n",
    "\n",
    "score_rf=-np.round(cross_val_score(rf,X_train,y_train,cv=10,scoring='neg_mean_squared_error'),4)\n",
    "score_xgb_reg=-np.round(cross_val_score(xgb_reg,X_train,y_train,cv=10,scoring='neg_mean_squared_error'),4)\n",
    "score_lgb_reg=-np.round(cross_val_score(lgb_reg,X_train,y_train,cv=10,scoring='neg_mean_squared_error'),4)\n",
    "\n",
    "mae_rf = -np.round(cross_val_score(rf, X_train,y_train, scoring='neg_mean_absolute_error', cv=10),4)\n",
    "mae_xgb = -np.round(cross_val_score(xgb_reg, X_train,y_train, scoring='neg_mean_absolute_error', cv=10),4)\n",
    "mae_lgb = -np.round(cross_val_score(lgb_reg, X_train,y_train, scoring='neg_mean_absolute_error', cv=10),4)\n",
    "\n",
    "r2_rf = np.round(cross_val_score(rf, X_train,y_train, scoring='r2', cv=10),4)\n",
    "r2_xgb = np.round(cross_val_score(xgb_reg, X_train,y_train, scoring='r2', cv=10),4)\n",
    "r2_lgb = np.round(cross_val_score(lgb_reg, X_train,y_train, scoring='r2', cv=10),4)\n",
    "\n",
    "rmse_rf = np.round(cross_val_score(rf, X_train, y_train,  scoring=\"neg_mean_squared_error\", cv = 10),4)\n",
    "rmse_xgb = np.round(cross_val_score(xgb_reg, X_train, y_train,  scoring=\"neg_mean_squared_error\", cv = 10),4)\n",
    "rmse_pl = np.round(cross_val_score(lgb_reg, X_train, y_train,  scoring=\"neg_mean_squared_error\", cv = 10),4)\n",
    "\n",
    "scores=pd.DataFrame({'Model':['Random Forest','XGBoost','LightGBM'],\n",
    "                    'Mean Squared Error':[score_rf.mean(),score_xgb_reg.mean(),score_lgb_reg.mean()],\n",
    "                    'Mean Absolute Error':[mae_rf.mean(),mae_xgb.mean(),mae_lgb.mean()],\n",
    "                     'RMSE':[np.sqrt((-1)*np.mean(rmse_rf)),np.sqrt((-1)*np.mean(rmse_xgb)),np.sqrt((-1)*np.mean(rmse_pl))],\n",
    "                     'R2':[r2_rf.mean(),r2_xgb.mean(),r2_lgb.mean()]})\n",
    "\n",
    "scores"
   ]
  },
  {
   "cell_type": "markdown",
   "metadata": {},
   "source": [
    "---\n",
    "After getting estimated machine learning models result we can compare all our models to choose a better-estimated model and that is the Random Forest model, the reason is that some metrics as, RMSE,MSE and other measures highly than other models"
   ]
  }
 ],
 "metadata": {
  "kernelspec": {
   "display_name": "Python 3",
   "language": "python",
   "name": "python3"
  },
  "language_info": {
   "codemirror_mode": {
    "name": "ipython",
    "version": 3
   },
   "file_extension": ".py",
   "mimetype": "text/x-python",
   "name": "python",
   "nbconvert_exporter": "python",
   "pygments_lexer": "ipython3",
   "version": "3.8.3"
  }
 },
 "nbformat": 4,
 "nbformat_minor": 4
}
